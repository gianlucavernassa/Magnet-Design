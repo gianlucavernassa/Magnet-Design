{
 "cells": [
  {
   "cell_type": "markdown",
   "id": "3da845b7",
   "metadata": {},
   "source": [
    "# Analytical formulas for the design of a superconducting dipole\n",
    "\n",
    "Formulas retrieved from the course \"Masterclass - Design of superconducting magnets for particle accelerators\" from Ezio Todesco (CERN) \n",
    "<a href=\"https://indico.cern.ch/category/12408/\">Indico page</a>\n",
    "\n",
    "<br>\n",
    "Our targets:\n",
    "\n",
    "- Dipole magnet with \n",
    "- B1: 12 T\n",
    "- b3\t< 10\n",
    "- b5\t< 10\n",
    "- b7\t< 15\n",
    "- b9\t< 5\n",
    "- b11\t< 5\n",
    "\n",
    "<br>\n",
    "Cable parameters:\n",
    "\n",
    "- Operating current < 20 kA\n",
    "- Number of strands\t< 40\n",
    "- Strand diameter\t< 1.1 mm\n",
    "- Strand twist pitch\t< 110 mm\n",
    "- Cable width\t< 21 mm\n",
    "- Fiberglass insulation thickness\t~ 0.15 mm\n",
    "- Specified non-Cu Jc \t2450 A/mm2 (4.2 K, 12 T)\n",
    "- Cu/non-Cu ratio\t~ 1"
   ]
  },
  {
   "cell_type": "code",
   "execution_count": 2,
   "id": "66992d06",
   "metadata": {},
   "outputs": [],
   "source": [
    "import os\n",
    "\n",
    "from scipy.optimize import minimize\n",
    "import numpy as np\n",
    "\n",
    "import matplotlib.pyplot as plt\n",
    "import matplotlib.patches as mpatches\n",
    "import plotly.express as px\n",
    "import plotly.graph_objects as go\n",
    "\n",
    "import sympy as sy\n",
    "import IPython.display as disp"
   ]
  },
  {
   "cell_type": "markdown",
   "id": "d91f633d",
   "metadata": {},
   "source": [
    "#### Field armonics\n",
    "$$ B_y+iB_x = 10^{-4} \\, B_1 \\sum_{n=1}^{\\infty}(b_n+ia_n)\\left( \\dfrac{x+iy}{R_{ref}}\\right)^{n-1}$$\n",
    "$a_n$ and $b_n$ are the normalized multipoles.\n",
    "\n",
    "#### Harmonics of a single conductor\n",
    "If a conductor carrying current $I$ is placed at $z_0=x_0+iy_0$ we can compute the $B_1$ component as:\n",
    "\n",
    "$$ B_1 = - \\dfrac{I \\mu_0}{2 \\pi}\\cdot\\dfrac{x_0}{x_0^2+y_0^2}$$\n",
    "\n",
    "the contribution to the multipoles is:\n",
    "\n",
    "<br>\n",
    "$$b_n+ia_n = - \\dfrac{I\\mu_0 \\, 10^4}{2\\pi z_0 B_1} \\left( \\dfrac{R_{ref}}{z_0}\\right)^{n-1} $$"
   ]
  },
  {
   "cell_type": "markdown",
   "id": "49f393ff",
   "metadata": {},
   "source": [
    "#### Approximation of sector coils for dipoles\n",
    "If a coil presents the an up-down symmetry we suppress the skew multipoles $a_n$. <br> If it presents a left-right antisymmetry, we suppress all the even number normal multipoles $b_{2m}$. <br> We end up having only \\a specific set of allowed multipoles:\n",
    "\n",
    "- B_1: dipole\n",
    "- b_3: sextupole\n",
    "- b_5: decapole\n",
    "- b_7: ...\n",
    "\n",
    "If a sector coil is defined by $$r \\in \\{R, R+w\\}$$ $$\\phi_c \\in \\{\\phi_1, \\phi_2\\}$$\n",
    "\n",
    "we consider there is a symmetric fraction below the midplane $\\phi_c \\in \\{-\\phi_2, -\\phi_1\\}$\n",
    "\n",
    "The contribution to the multipole is:\n",
    "$$ C_n = -\\dfrac{j\\mu_0R_{ref}^{n-1}}{\\pi}\\int_R^{R+w}\\rho^{1-n}d\\rho \\cdot \\left(\\int_{-\\phi_2}^{-\\phi_1} \\exp(-in\\theta) d\\theta + \\int_{\\phi_1}^{\\phi_2} \\exp(-in\\theta) d\\theta\\right)$$\n",
    "\n",
    "which is:\n",
    "\n",
    "$$ B_1 = -\\dfrac{2J\\mu_0}{\\pi}w (\\sin (\\phi_2)-\\sin(\\phi_1))$$\n",
    "\n",
    "$$ B_3 = \\dfrac{\\mu_0 J R_{ref}^2}{\\pi} \\dfrac{\\sin (3\\phi_2)-\\sin(3\\phi_1)}{3} \\left(\\dfrac{1}{R}-\\dfrac{1}{R+w}\\right)$$ \n",
    "\n",
    "$$ B_5 = \\dfrac{\\mu_0 J R_{ref}^4}{\\pi} \\dfrac{\\sin (5\\phi_2)-\\sin(5\\phi_1)}{5} \\left(\\dfrac{1}{R^3}-\\dfrac{1}{(R+w)^3}\\right)$$ "
   ]
  },
  {
   "cell_type": "code",
   "execution_count": 9,
   "id": "c36530c9",
   "metadata": {},
   "outputs": [
    {
     "data": {
      "text/latex": [
       "$\\displaystyle x_{1} + i x_{2}$"
      ],
      "text/plain": [
       "x1 + I*x2"
      ]
     },
     "metadata": {},
     "output_type": "display_data"
    }
   ],
   "source": [
    "from sympy import *\n",
    "x1, x2, y1, y2 = symbols(\"x1 x2 y1 y2\", real=True)  \n",
    "x = x1 + I*x2\n",
    "y = y1 + I*y2\n",
    "disp.display(x)"
   ]
  },
  {
   "cell_type": "code",
   "execution_count": 16,
   "id": "15a7478a",
   "metadata": {},
   "outputs": [
    {
     "data": {
      "text/latex": [
       "$\\displaystyle - \\frac{2 J \\mu_{0} w \\left(- \\sin{\\left(\\phi_{1} \\right)} + \\sin{\\left(\\phi_{2} \\right)}\\right)}{\\pi}$"
      ],
      "text/plain": [
       "-2*J*mu_0*w*(-sin(phi_1) + sin(phi_2))/pi"
      ]
     },
     "metadata": {},
     "output_type": "display_data"
    },
    {
     "data": {
      "text/latex": [
       "$\\displaystyle - \\frac{2 J R_{ref}^{2} \\mu_{0} \\left(- \\frac{1}{R + w} + \\frac{1}{R}\\right) \\left(- \\frac{\\sin{\\left(3 \\phi_{1} \\right)}}{3} + \\frac{\\sin{\\left(3 \\phi_{2} \\right)}}{3}\\right)}{\\pi}$"
      ],
      "text/plain": [
       "-2*J*R_ref**2*mu_0*(-1/(R + w) + 1/R)*(-sin(3*phi_1)/3 + sin(3*phi_2)/3)/pi"
      ]
     },
     "metadata": {},
     "output_type": "display_data"
    },
    {
     "data": {
      "text/latex": [
       "$\\displaystyle - \\frac{2 J R_{ref}^{4} \\mu_{0} \\left(- \\frac{1}{3 \\left(R + w\\right)^{3}} + \\frac{1}{3 R^{3}}\\right) \\left(- \\frac{\\sin{\\left(5 \\phi_{1} \\right)}}{5} + \\frac{\\sin{\\left(5 \\phi_{2} \\right)}}{5}\\right)}{\\pi}$"
      ],
      "text/plain": [
       "-2*J*R_ref**4*mu_0*(-1/(3*(R + w)**3) + 1/(3*R**3))*(-sin(5*phi_1)/5 + sin(5*phi_2)/5)/pi"
      ]
     },
     "metadata": {},
     "output_type": "display_data"
    },
    {
     "data": {
      "text/latex": [
       "$\\displaystyle - \\frac{2 J R_{ref}^{6} \\mu_{0} \\left(- \\frac{1}{5 \\left(R + w\\right)^{5}} + \\frac{1}{5 R^{5}}\\right) \\left(- \\frac{\\sin{\\left(7 \\phi_{1} \\right)}}{7} + \\frac{\\sin{\\left(7 \\phi_{2} \\right)}}{7}\\right)}{\\pi}$"
      ],
      "text/plain": [
       "-2*J*R_ref**6*mu_0*(-1/(5*(R + w)**5) + 1/(5*R**5))*(-sin(7*phi_1)/7 + sin(7*phi_2)/7)/pi"
      ]
     },
     "metadata": {},
     "output_type": "display_data"
    },
    {
     "data": {
      "text/latex": [
       "$\\displaystyle - \\frac{2 J R_{ref}^{8} \\mu_{0} \\left(- \\frac{1}{7 \\left(R + w\\right)^{7}} + \\frac{1}{7 R^{7}}\\right) \\left(- \\frac{\\sin{\\left(9 \\phi_{1} \\right)}}{9} + \\frac{\\sin{\\left(9 \\phi_{2} \\right)}}{9}\\right)}{\\pi}$"
      ],
      "text/plain": [
       "-2*J*R_ref**8*mu_0*(-1/(7*(R + w)**7) + 1/(7*R**7))*(-sin(9*phi_1)/9 + sin(9*phi_2)/9)/pi"
      ]
     },
     "metadata": {},
     "output_type": "display_data"
    }
   ],
   "source": [
    "mm = 1e-3\n",
    "RR = 26*mm\n",
    "RRref = 2/3*RR\n",
    "ww = 20*mm\n",
    "JJ = -400/(mm**2)\n",
    "B1t = 12\n",
    "B3t = 0\n",
    "mmu0 = 4*np.pi*1e-7\n",
    "\n",
    "J, mu0, pi, w, alpha, R, Rref, n, phi1, phi2, rho, theta = sy.symbols('J mu_0 pi w alpha R R_ref n phi_1 phi_2 rho theta', real=True)\n",
    "\n",
    "C_n = -2*(J*mu0*Rref**(n-1))/pi*sy.integrate(rho**(1-n),(rho, R, R+w))*sy.integrate(exp(-I*n*theta),(theta, phi1, phi2))\n",
    "B_n = sy.re(C_n)\n",
    "\n",
    "B1 = B_n.subs({n:1})\n",
    "B3 = B_n.subs({n:3})\n",
    "B5 = B_n.subs({n:5})\n",
    "B7 = B_n.subs({n:7})\n",
    "B9 = B_n.subs({n:9})\n",
    "disp.display(B1)\n",
    "disp.display(B3)\n",
    "disp.display(B5)\n",
    "disp.display(B7)\n",
    "disp.display(B9)"
   ]
  },
  {
   "cell_type": "markdown",
   "id": "516bc9f8",
   "metadata": {},
   "source": [
    "## Example:"
   ]
  },
  {
   "cell_type": "code",
   "execution_count": null,
   "id": "a86128cd",
   "metadata": {},
   "outputs": [],
   "source": [
    "alpha1, alpha2, alpha3 = sy.symbols('alpha_1 alpha_2 alpha_3')\n",
    "\n",
    "B01 = B1.subs({mu0:mmu0, w:ww, pi:np.pi, R:RR, Rref:RRref})\n",
    "B03 = B3.subs({mu0:mmu0, w:ww, pi:np.pi, R:RR, Rref:RRref})\n",
    "B05 = B5.subs({mu0:mmu0, w:ww, pi:np.pi, R:RR, Rref:RRref})\n",
    "B07 = B7.subs({mu0:mmu0, w:ww, pi:np.pi, R:RR, Rref:RRref})\n",
    "\n",
    "expr1 = B01.subs({phi1:0, phi2:alpha1}) + B01.subs({phi1:alpha2, phi2:alpha3})\n",
    "expr2 = B03.subs({phi1:0, phi2:alpha1}) + B03.subs({phi1:alpha2, phi2:alpha3})\n",
    "expr3 = B05.subs({phi1:0, phi2:alpha1}) + B05.subs({phi1:alpha2, phi2:alpha3})\n",
    "expr4 = B07.subs({phi1:0, phi2:alpha1}) + B07.subs({phi1:alpha2, phi2:alpha3})\n",
    "\n",
    "eq1 = sy.Eq(expr1,12)\n",
    "eq2 = sy.Eq(expr2,0)\n",
    "eq3 = sy.Eq(expr3,0)\n",
    "eq4 = sy.Eq(expr4,0)\n",
    "\n",
    "[(JJ, a1, a2, a3)] = sy.solve([eq1,eq2, eq3, eq4],(J, alpha1, alpha2, alpha3))\n",
    "\n",
    "# print(\"Current density J is: \", JJ*mm*mm, \"A/mm2\")\n",
    "# print(\"Angle of the sector is: \", aa*180/np.pi, \" deg\")"
   ]
  },
  {
   "cell_type": "markdown",
   "id": "55de1413",
   "metadata": {},
   "source": [
    "#### Example: Single-sector coil\n",
    "Find the angle $\\alpha$ and current density $j$ that generate B1 = 12 T,  and B_3 = 0, inside an aperture of R = 26 mm with a coil width of 20 mm. Take Rref = 2/3 R"
   ]
  },
  {
   "cell_type": "code",
   "execution_count": 2,
   "id": "e115ac0f",
   "metadata": {},
   "outputs": [
    {
     "name": "stdout",
     "output_type": "stream",
     "text": [
      "B1: \n"
     ]
    },
    {
     "data": {
      "text/latex": [
       "$\\displaystyle - \\frac{2 J \\mu_{0} w \\sin{\\left(\\alpha \\right)}}{\\pi}$"
      ],
      "text/plain": [
       "-2*J*mu_0*w*sin(alpha)/pi"
      ]
     },
     "metadata": {},
     "output_type": "display_data"
    },
    {
     "name": "stdout",
     "output_type": "stream",
     "text": [
      "B3: \n"
     ]
    },
    {
     "data": {
      "text/latex": [
       "$\\displaystyle \\frac{J R_{ref}^{2} \\mu_{0} \\left(- \\frac{1}{R + w} + \\frac{1}{R}\\right) \\sin{\\left(3 \\alpha \\right)}}{3 \\pi}$"
      ],
      "text/plain": [
       "J*R_ref**2*mu_0*(-1/(R + w) + 1/R)*sin(3*alpha)/(3*pi)"
      ]
     },
     "metadata": {},
     "output_type": "display_data"
    }
   ],
   "source": [
    "B1 = -2*J*mu0/pi*w*sy.sin(alpha)\n",
    "B3 = J*mu0*Rref**2/pi*sy.sin(3*alpha)/3*(1/R-1/(R+w))\n",
    "\n",
    "print(\"B1: \")\n",
    "disp.display(B1)\n",
    "print(\"B3: \")\n",
    "disp.display(B3)"
   ]
  },
  {
   "cell_type": "code",
   "execution_count": 3,
   "id": "fea32c6f",
   "metadata": {},
   "outputs": [
    {
     "data": {
      "text/latex": [
       "$\\displaystyle - 1.6 \\cdot 10^{-8} J \\sin{\\left(\\alpha \\right)} = 12$"
      ],
      "text/plain": [
       "Eq(-1.6e-8*J*sin(alpha), 12)"
      ]
     },
     "metadata": {},
     "output_type": "display_data"
    },
    {
     "data": {
      "text/latex": [
       "$\\displaystyle 6.69887278582931 \\cdot 10^{-10} J \\sin{\\left(3 \\alpha \\right)} = 0$"
      ],
      "text/plain": [
       "Eq(6.69887278582931e-10*J*sin(3*alpha), 0)"
      ]
     },
     "metadata": {},
     "output_type": "display_data"
    }
   ],
   "source": [
    "expr1 = B1.subs({mu0:mmu0, w:ww, pi:np.pi})\n",
    "expr2 = B3.subs({mu0:mmu0, w:ww, pi:np.pi, Rref:RRref, R:RR})\n",
    "eq1 = sy.Eq(expr1,12)\n",
    "eq2 = sy.Eq(expr2,0)\n",
    "disp.display(eq1)\n",
    "disp.display(eq2)"
   ]
  },
  {
   "cell_type": "code",
   "execution_count": 4,
   "id": "4b46312e",
   "metadata": {},
   "outputs": [
    {
     "name": "stdout",
     "output_type": "stream",
     "text": [
      "Current density J is:  -866.025403784439 A/mm2\n",
      "Angle of the sector is:  60.0000000000000  deg\n"
     ]
    }
   ],
   "source": [
    "[(JJ, aa)] = sy.solve([eq1,eq2],(J, alpha))\n",
    "\n",
    "print(\"Current density J is: \", JJ*mm*mm, \"A/mm2\")\n",
    "print(\"Angle of the sector is: \", aa*180/np.pi, \" deg\")"
   ]
  },
  {
   "cell_type": "markdown",
   "id": "32eb8237",
   "metadata": {},
   "source": [
    "### Now two layer coil \n"
   ]
  },
  {
   "cell_type": "code",
   "execution_count": 1,
   "id": "d3b6a53e",
   "metadata": {},
   "outputs": [
    {
     "ename": "NameError",
     "evalue": "name 'pi' is not defined",
     "output_type": "error",
     "traceback": [
      "\u001b[1;31m---------------------------------------------------------------------------\u001b[0m",
      "\u001b[1;31mNameError\u001b[0m                                 Traceback (most recent call last)",
      "\u001b[1;32m~\\AppData\\Local\\Temp\\ipykernel_13920\\2411842491.py\u001b[0m in \u001b[0;36m<module>\u001b[1;34m\u001b[0m\n\u001b[1;32m----> 1\u001b[1;33m \u001b[0mexpr\u001b[0m \u001b[1;33m=\u001b[0m \u001b[0mpi\u001b[0m \u001b[1;33m+\u001b[0m \u001b[1;36m1\u001b[0m\u001b[1;33m\u001b[0m\u001b[1;33m\u001b[0m\u001b[0m\n\u001b[0m\u001b[0;32m      2\u001b[0m \u001b[0mexpr\u001b[0m\u001b[1;33m.\u001b[0m\u001b[0msubs\u001b[0m\u001b[1;33m(\u001b[0m\u001b[0mpi\u001b[0m\u001b[1;33m,\u001b[0m \u001b[0mnp\u001b[0m\u001b[1;33m.\u001b[0m\u001b[0mpi\u001b[0m\u001b[1;33m)\u001b[0m\u001b[1;33m\u001b[0m\u001b[1;33m\u001b[0m\u001b[0m\n\u001b[0;32m      3\u001b[0m \u001b[0mB1\u001b[0m\u001b[1;33m\u001b[0m\u001b[1;33m\u001b[0m\u001b[0m\n\u001b[0;32m      4\u001b[0m \u001b[0mRref\u001b[0m\u001b[1;33m\u001b[0m\u001b[1;33m\u001b[0m\u001b[0m\n\u001b[0;32m      5\u001b[0m \u001b[0mB3\u001b[0m\u001b[1;33m\u001b[0m\u001b[1;33m\u001b[0m\u001b[0m\n",
      "\u001b[1;31mNameError\u001b[0m: name 'pi' is not defined"
     ]
    }
   ],
   "source": [
    "expr = pi + 1\n",
    "expr.subs(pi, np.pi)\n",
    "B1\n",
    "Rref\n",
    "B3\n",
    "expr1\n",
    "expr2"
   ]
  }
 ],
 "metadata": {
  "kernelspec": {
   "display_name": "Python 3 (ipykernel)",
   "language": "python",
   "name": "python3"
  },
  "language_info": {
   "codemirror_mode": {
    "name": "ipython",
    "version": 3
   },
   "file_extension": ".py",
   "mimetype": "text/x-python",
   "name": "python",
   "nbconvert_exporter": "python",
   "pygments_lexer": "ipython3",
   "version": "3.9.12"
  },
  "varInspector": {
   "cols": {
    "lenName": 16,
    "lenType": 16,
    "lenVar": 40
   },
   "kernels_config": {
    "python": {
     "delete_cmd_postfix": "",
     "delete_cmd_prefix": "del ",
     "library": "var_list.py",
     "varRefreshCmd": "print(var_dic_list())"
    },
    "r": {
     "delete_cmd_postfix": ") ",
     "delete_cmd_prefix": "rm(",
     "library": "var_list.r",
     "varRefreshCmd": "cat(var_dic_list()) "
    }
   },
   "types_to_exclude": [
    "module",
    "function",
    "builtin_function_or_method",
    "instance",
    "_Feature"
   ],
   "window_display": false
  }
 },
 "nbformat": 4,
 "nbformat_minor": 5
}
