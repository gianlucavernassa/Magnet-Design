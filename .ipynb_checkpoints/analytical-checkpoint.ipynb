{
 "cells": [
  {
   "cell_type": "markdown",
   "id": "3da845b7",
   "metadata": {},
   "source": [
    "# Analytical formulas for the design of a superconducting dipole\n",
    "\n",
    "Formulas retrieved from the course \"Masterclass - Design of superconducting magnets for particle accelerators\" from Ezio Todesco (CERN) \n",
    "<a href=\"https://indico.cern.ch/category/12408/\">Indico page</a>\n",
    "\n",
    "<br>\n",
    "Our targets:\n",
    "\n",
    "- Dipole magnet with \n",
    "- B1: 12 T\n",
    "- b3\t< 10\n",
    "- b5\t< 10\n",
    "- b7\t< 15\n",
    "- b9\t< 5\n",
    "- b11\t< 5\n",
    "\n",
    "<br>\n",
    "Cable parameters:\n",
    "\n",
    "- Operating current < 20 kA\n",
    "- Number of strands\t< 40\n",
    "- Strand diameter\t< 1.1 mm\n",
    "- Strand twist pitch\t< 110 mm\n",
    "- Cable width\t< 21 mm\n",
    "- Fiberglass insulation thickness\t~ 0.15 mm\n",
    "- Specified non-Cu Jc \t2450 A/mm2 (4.2 K, 12 T)\n",
    "- Cu/non-Cu ratio\t~ 1"
   ]
  },
  {
   "cell_type": "code",
   "execution_count": 7,
   "id": "66992d06",
   "metadata": {},
   "outputs": [],
   "source": [
    "import os\n",
    "\n",
    "from scipy.optimize import minimize\n",
    "import numpy as np\n",
    "\n",
    "import matplotlib.pyplot as plt\n",
    "import matplotlib.patches as mpatches\n",
    "import plotly.express as px\n",
    "import plotly.graph_objects as go\n",
    "\n",
    "import sympy as sy\n",
    "import IPython.display as disp"
   ]
  },
  {
   "cell_type": "markdown",
   "id": "d91f633d",
   "metadata": {},
   "source": [
    "#### Field armonics\n",
    "$$ B_y+iB_x = 10^{-4} \\, B_1 \\sum_{n=1}^{\\infty}(b_n+ia_n)\\left( \\dfrac{x+iy}{R_{ref}}\\right)^{n-1}$$\n",
    "$a_n$ and $b_n$ are the normalized multipoles.\n",
    "\n",
    "#### Harmonics of a single conductor\n",
    "If a conductor carrying current $I$ is placed at $z_0=x_0+iy_0$ we can compute the $B_1$ component as:\n",
    "\n",
    "$$ B_1 = - \\dfrac{I \\mu_0}{2 \\pi}\\cdot\\dfrac{x_0}{x_0^2+y_0^2}$$\n",
    "\n",
    "the contribution to the multipoles is:\n",
    "\n",
    "<br>\n",
    "$$b_n+ia_n = - \\dfrac{I\\mu_0 \\, 10^4}{2\\pi z_0 B_1} \\left( \\dfrac{R_{ref}}{z_0}\\right)^{n-1} $$"
   ]
  },
  {
   "cell_type": "markdown",
   "id": "49f393ff",
   "metadata": {},
   "source": [
    "#### Approximation of sector coils for dipoles\n",
    "If a coil presents the an up-down symmetry we suppress the skew multipoles $a_n$. <br> If it presents a left-right antisymmetry, we suppress all the even number normal multipoles $b_{2m}$. <br> We end up having only \\a specific set of allowed multipoles:\n",
    "\n",
    "- B_1: dipole\n",
    "- b_3: sextupole\n",
    "- b_5: decapole\n",
    "- b_7: ...\n",
    "\n",
    "If a sector coil is defined by $$r \\in \\{R, R+w\\}$$ $$\\phi_c \\in \\{\\phi_1, \\phi_2\\}$$\n",
    "\n",
    "we consider there is a symmetric fraction below the midplane $\\phi_c \\in \\{-\\phi_2, -\\phi_1\\}$\n",
    "\n",
    "The contribution to the multipole is:\n",
    "$$ C_n = -\\dfrac{j\\mu_0R_{ref}^{n-1}}{\\pi}\\int_R^{R+w}\\rho^{1-n}d\\rho \\cdot \\left(\\int_{-\\phi_2}^{-\\phi_1} \\exp(-in\\theta) d\\theta + \\int_{\\phi_1}^{\\phi_2} \\exp(-in\\theta) d\\theta\\right)$$\n",
    "\n",
    "which is:\n",
    "\n",
    "$$ B_1 = -\\dfrac{2J\\mu_0}{\\pi}w (\\sin (\\phi_2)-\\sin(\\phi_1))$$\n",
    "\n",
    "$$ B_3 = \\dfrac{\\mu_0 J R_{ref}^2}{\\pi} \\dfrac{\\sin (3\\phi_2)-\\sin(3\\phi_1)}{3} \\left(\\dfrac{1}{R}-\\dfrac{1}{R+w}\\right)$$ \n",
    "\n",
    "$$ B_5 = \\dfrac{\\mu_0 J R_{ref}^4}{\\pi} \\dfrac{\\sin (5\\phi_2)-\\sin(5\\phi_1)}{5} \\left(\\dfrac{1}{R^3}-\\dfrac{1}{(R+w)^3}\\right)$$ "
   ]
  },
  {
   "cell_type": "markdown",
   "id": "55de1413",
   "metadata": {},
   "source": [
    "#### Example: Single-sector coil\n",
    "Find the angle $\\alpha$ and current density $j$ that generate B1 = 12 T,  and B_3 = 0, inside an aperture of R = 26 mm with a coil width of 20 mm. Take Rref = 2/3 R"
   ]
  },
  {
   "cell_type": "code",
   "execution_count": 2,
   "id": "e115ac0f",
   "metadata": {},
   "outputs": [
    {
     "name": "stdout",
     "output_type": "stream",
     "text": [
      "B1: \n"
     ]
    },
    {
     "data": {
      "text/latex": [
       "$\\displaystyle - \\frac{2 J \\mu_{0} w \\sin{\\left(\\alpha \\right)}}{\\pi}$"
      ],
      "text/plain": [
       "-2*J*mu_0*w*sin(alpha)/pi"
      ]
     },
     "metadata": {},
     "output_type": "display_data"
    },
    {
     "name": "stdout",
     "output_type": "stream",
     "text": [
      "B3: \n"
     ]
    },
    {
     "data": {
      "text/latex": [
       "$\\displaystyle \\frac{J R_{ref}^{2} \\mu_{0} \\left(- \\frac{1}{R + w} + \\frac{1}{R}\\right) \\sin{\\left(3 \\alpha \\right)}}{3 \\pi}$"
      ],
      "text/plain": [
       "J*R_ref**2*mu_0*(-1/(R + w) + 1/R)*sin(3*alpha)/(3*pi)"
      ]
     },
     "metadata": {},
     "output_type": "display_data"
    }
   ],
   "source": [
    "mm = 1e-3\n",
    "RR = 26*mm\n",
    "RRref = 2/3*RR\n",
    "ww = 20*mm\n",
    "JJ = -400/(mm**2)\n",
    "B1t = 12\n",
    "B3t = 0\n",
    "mmu0 = 4*np.pi*1e-7\n",
    "\n",
    "J, mu0, pi, w, alpha, R, Rref = sy.symbols('J mu_0 pi w alpha R R_ref')\n",
    "\n",
    "B1 = -2*J*mu0/pi*w*sy.sin(alpha)\n",
    "B3 = J*mu0*Rref**2/pi*sy.sin(3*alpha)/3*(1/R-1/(R+w))\n",
    "\n",
    "print(\"B1: \")\n",
    "disp.display(B1)\n",
    "print(\"B3: \")\n",
    "disp.display(B3)"
   ]
  },
  {
   "cell_type": "code",
   "execution_count": 3,
   "id": "fea32c6f",
   "metadata": {},
   "outputs": [
    {
     "data": {
      "text/latex": [
       "$\\displaystyle - 1.6 \\cdot 10^{-8} J \\sin{\\left(\\alpha \\right)} = 12$"
      ],
      "text/plain": [
       "Eq(-1.6e-8*J*sin(alpha), 12)"
      ]
     },
     "metadata": {},
     "output_type": "display_data"
    },
    {
     "data": {
      "text/latex": [
       "$\\displaystyle 6.69887278582931 \\cdot 10^{-10} J \\sin{\\left(3 \\alpha \\right)} = 0$"
      ],
      "text/plain": [
       "Eq(6.69887278582931e-10*J*sin(3*alpha), 0)"
      ]
     },
     "metadata": {},
     "output_type": "display_data"
    }
   ],
   "source": [
    "expr1 = B1.subs({mu0:mmu0, w:ww, pi:np.pi})\n",
    "expr2 = B3.subs({mu0:mmu0, w:ww, pi:np.pi, Rref:RRref, R:RR})\n",
    "eq1 = sy.Eq(expr1,B1t)\n",
    "eq2 = sy.Eq(expr2,B3t)\n",
    "disp.display(eq1)\n",
    "disp.display(eq2)"
   ]
  },
  {
   "cell_type": "code",
   "execution_count": 4,
   "id": "4b46312e",
   "metadata": {},
   "outputs": [
    {
     "name": "stdout",
     "output_type": "stream",
     "text": [
      "Current density J is:  -866.025403784439 A/mm2\n",
      "Angle of the sector is:  60.0000000000000  deg\n"
     ]
    }
   ],
   "source": [
    "[(JJ, aa)] = sy.solve([eq1,eq2],(J, alpha))\n",
    "\n",
    "print(\"Current density J is: \", JJ*mm*mm, \"A/mm2\")\n",
    "print(\"Angle of the sector is: \", aa*180/np.pi, \" deg\")"
   ]
  },
  {
   "cell_type": "code",
   "execution_count": 10,
   "id": "cd28b85e",
   "metadata": {},
   "outputs": [
    {
     "data": {
      "text/plain": [
       "<matplotlib.patches.Wedge at 0x1405b35b700>"
      ]
     },
     "execution_count": 10,
     "metadata": {},
     "output_type": "execute_result"
    },
    {
     "data": {
      "image/png": "[encoded data removed]",
      "text/plain": [
       "<Figure size 640x480 with 1 Axes>"
      ]
     },
     "metadata": {},
     "output_type": "display_data"
    }
   ],
   "source": [
    "fill_color = \"red\"\n",
    "line_color = \"blue\"\n",
    "line_width = 2.\n",
    "line_style = 'dashed'     # 'solid' (default), 'dashed', 'dashdot', 'dotted'   see: http://matplotlib.org/examples/lines_bars_and_markers/linestyles.html\n",
    "join_style = \"miter\"      # 'miter', 'round', 'bevel'                          see: http://matplotlib.org/examples/api/joinstyle.html\n",
    "fill = True               # True or False\n",
    "fill_pattern = \"/\"        # \"/\", \"\\\\\", '-', '+', 'x', 'o', 'O', '.', '*'\n",
    "alpha = 0.5\n",
    "\n",
    "fig,ax = plt.subplots()\n",
    "\n",
    "center = (0., 0.)         # center of the circle\n",
    "radius = 3.\n",
    "theta1 = -125.\n",
    "theta2 = 125.\n",
    "width = 1.\n",
    "\n",
    "patch = mpatches.Wedge(center=center,\n",
    "                       r=radius,\n",
    "                       theta1=theta1,\n",
    "                       theta2=theta2,\n",
    "                       width=width,\n",
    "                       # COMMON OPTIONS:\n",
    "                       alpha=alpha,\n",
    "                       fill=fill,\n",
    "                       facecolor=fill_color,\n",
    "                       hatch=fill_pattern,\n",
    "                       ec=line_color,\n",
    "                       lw=line_width,\n",
    "                       joinstyle=join_style,\n",
    "                       linestyle=line_style)\n",
    "\n",
    "ax.add_patch(patch)\n",
    "\n",
    "# ax.set_title(\"matplotlib.patches.Wedge\\n(width=1)\")\n",
    "# plt.show()"
   ]
  },
  {
   "cell_type": "markdown",
   "id": "32eb8237",
   "metadata": {},
   "source": [
    "### Now two layer coil \n"
   ]
  },
  {
   "cell_type": "code",
   "execution_count": null,
   "id": "d3b6a53e",
   "metadata": {},
   "outputs": [],
   "source": [
    "expr = pi + 1\n",
    "expr.subs(pi, np.pi)\n",
    "B1\n",
    "Rref\n",
    "B3\n",
    "expr1\n",
    "expr2"
   ]
  }
 ],
 "metadata": {
  "kernelspec": {
   "display_name": "Python 3 (ipykernel)",
   "language": "python",
   "name": "python3"
  },
  "language_info": {
   "codemirror_mode": {
    "name": "ipython",
    "version": 3
   },
   "file_extension": ".py",
   "mimetype": "text/x-python",
   "name": "python",
   "nbconvert_exporter": "python",
   "pygments_lexer": "ipython3",
   "version": "3.9.12"
  },
  "varInspector": {
   "cols": {
    "lenName": 16,
    "lenType": 16,
    "lenVar": 40
   },
   "kernels_config": {
    "python": {
     "delete_cmd_postfix": "",
     "delete_cmd_prefix": "del ",
     "library": "var_list.py",
     "varRefreshCmd": "print(var_dic_list())"
    },
    "r": {
     "delete_cmd_postfix": ") ",
     "delete_cmd_prefix": "rm(",
     "library": "var_list.r",
     "varRefreshCmd": "cat(var_dic_list()) "
    }
   },
   "types_to_exclude": [
    "module",
    "function",
    "builtin_function_or_method",
    "instance",
    "_Feature"
   ],
   "window_display": false
  }
 },
 "nbformat": 4,
 "nbformat_minor": 5
}
